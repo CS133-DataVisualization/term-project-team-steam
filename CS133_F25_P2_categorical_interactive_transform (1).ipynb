{
  "cells": [
    {
      "cell_type": "markdown",
      "metadata": {
        "id": "G1R_oERWiKtv"
      },
      "source": [
        "# Project data exploration II -\n",
        "## plotting categorical plot and incorporating other data\n",
        "\n",
        "---\n",
        "\n",
        "\n",
        "We will continue to work with the dataset that your group is consider for the term project. In this notebook we will create some plot using the Seaborn module and the different categorical plots we practiced in class. Additionally, we will explore the idea of working with other datasets in addition to the one you originally selected to strengthen your argument."
      ]
    },
    {
      "cell_type": "markdown",
      "metadata": {
        "id": "Ml3CVbR8iSwb"
      },
      "source": [
        "Group name:  \n",
        "\n",
        "Created by NAMES (SJSU IDs):  Huy Tran(018235100), Michael Lac (017985071)\n",
        "\n",
        "Last updated: DATE  "
      ]
    },
    {
      "cell_type": "markdown",
      "metadata": {
        "id": "zmLRl47LAC6C"
      },
      "source": [
        "### Q1: How clean is your data?  \n",
        "Do you have formatting concerns, null values, inconsistent data, etc... If so, explain what cleaning or reformating you have to do and how you plan to approach this cleaning steps."
      ]
    },
    {
      "cell_type": "code",
      "execution_count": 15,
      "metadata": {
        "colab": {
          "base_uri": "https://localhost:8080/"
        },
        "id": "-8weRZ1aW9z5",
        "outputId": "25b78133-6a2b-4f87-f526-4fda474b580a"
      },
      "outputs": [
        {
          "name": "stdout",
          "output_type": "stream",
          "text": [
            "Files in downloaded directory:\n",
            "/Users/lacmichael/.cache/kagglehub/datasets/artyomkruglov/gaming-profiles-2025-steam-playstation-xbox/versions/1/steam/purchased_games.csv\n",
            "/Users/lacmichael/.cache/kagglehub/datasets/artyomkruglov/gaming-profiles-2025-steam-playstation-xbox/versions/1/steam/reviews.csv\n",
            "/Users/lacmichael/.cache/kagglehub/datasets/artyomkruglov/gaming-profiles-2025-steam-playstation-xbox/versions/1/steam/history.csv\n",
            "/Users/lacmichael/.cache/kagglehub/datasets/artyomkruglov/gaming-profiles-2025-steam-playstation-xbox/versions/1/steam/friends.csv\n",
            "/Users/lacmichael/.cache/kagglehub/datasets/artyomkruglov/gaming-profiles-2025-steam-playstation-xbox/versions/1/steam/prices.csv\n",
            "/Users/lacmichael/.cache/kagglehub/datasets/artyomkruglov/gaming-profiles-2025-steam-playstation-xbox/versions/1/steam/players.csv\n",
            "/Users/lacmichael/.cache/kagglehub/datasets/artyomkruglov/gaming-profiles-2025-steam-playstation-xbox/versions/1/steam/games.csv\n",
            "/Users/lacmichael/.cache/kagglehub/datasets/artyomkruglov/gaming-profiles-2025-steam-playstation-xbox/versions/1/steam/private_steamids.csv\n",
            "/Users/lacmichael/.cache/kagglehub/datasets/artyomkruglov/gaming-profiles-2025-steam-playstation-xbox/versions/1/steam/achievements.csv\n",
            "/Users/lacmichael/.cache/kagglehub/datasets/artyomkruglov/gaming-profiles-2025-steam-playstation-xbox/versions/1/playstation/purchased_games.csv\n",
            "/Users/lacmichael/.cache/kagglehub/datasets/artyomkruglov/gaming-profiles-2025-steam-playstation-xbox/versions/1/playstation/history.csv\n",
            "/Users/lacmichael/.cache/kagglehub/datasets/artyomkruglov/gaming-profiles-2025-steam-playstation-xbox/versions/1/playstation/prices.csv\n",
            "/Users/lacmichael/.cache/kagglehub/datasets/artyomkruglov/gaming-profiles-2025-steam-playstation-xbox/versions/1/playstation/players.csv\n",
            "/Users/lacmichael/.cache/kagglehub/datasets/artyomkruglov/gaming-profiles-2025-steam-playstation-xbox/versions/1/playstation/games.csv\n",
            "/Users/lacmichael/.cache/kagglehub/datasets/artyomkruglov/gaming-profiles-2025-steam-playstation-xbox/versions/1/playstation/achievements.csv\n",
            "/Users/lacmichael/.cache/kagglehub/datasets/artyomkruglov/gaming-profiles-2025-steam-playstation-xbox/versions/1/xbox/purchased_games.csv\n",
            "/Users/lacmichael/.cache/kagglehub/datasets/artyomkruglov/gaming-profiles-2025-steam-playstation-xbox/versions/1/xbox/history.csv\n",
            "/Users/lacmichael/.cache/kagglehub/datasets/artyomkruglov/gaming-profiles-2025-steam-playstation-xbox/versions/1/xbox/prices.csv\n",
            "/Users/lacmichael/.cache/kagglehub/datasets/artyomkruglov/gaming-profiles-2025-steam-playstation-xbox/versions/1/xbox/players.csv\n",
            "/Users/lacmichael/.cache/kagglehub/datasets/artyomkruglov/gaming-profiles-2025-steam-playstation-xbox/versions/1/xbox/games.csv\n",
            "/Users/lacmichael/.cache/kagglehub/datasets/artyomkruglov/gaming-profiles-2025-steam-playstation-xbox/versions/1/xbox/achievements.csv\n",
            "=== Q1: Data Quality Assessment ===\n",
            "Dataset shape: (424683, 3)\n",
            "\n",
            "Basic info:\n",
            "<class 'pandas.core.frame.DataFrame'>\n",
            "RangeIndex: 424683 entries, 0 to 424682\n",
            "Data columns (total 3 columns):\n",
            " #   Column    Non-Null Count   Dtype \n",
            "---  ------    --------------   ----- \n",
            " 0   playerid  424683 non-null  int64 \n",
            " 1   country   246815 non-null  object\n",
            " 2   created   377014 non-null  object\n",
            "dtypes: int64(1), object(2)\n",
            "memory usage: 9.7+ MB\n",
            "None\n",
            "\n",
            "Missing values:\n",
            "playerid         0\n",
            "country     177868\n",
            "created      47669\n",
            "dtype: int64\n",
            "\n",
            "Data types:\n",
            "playerid     int64\n",
            "country     object\n",
            "created     object\n",
            "dtype: object\n"
          ]
        }
      ],
      "source": [
        "import kagglehub\n",
        "import pandas as pd\n",
        "import numpy as np\n",
        "import seaborn as sns\n",
        "import matplotlib.pyplot as plt\n",
        "import plotly.express as px\n",
        "import plotly.graph_objects as go\n",
        "from plotly.subplots import make_subplots\n",
        "import os\n",
        "\n",
        "# Download latest version\n",
        "path = kagglehub.dataset_download(\"artyomkruglov/gaming-profiles-2025-steam-playstation-xbox\")\n",
        "\n",
        "print(\"Files in downloaded directory:\")\n",
        "for root, dirs, files in os.walk(path):\n",
        "    for file in files:\n",
        "        if file.endswith('.csv'):\n",
        "            print(os.path.join(root, file))\n",
        "\n",
        "# Load the main dataset (adjust filename as needed)\n",
        "# Assuming you want to load the players data from the steam directory as an example\n",
        "df = pd.read_csv(os.path.join(path, 'steam', 'players.csv'))\n",
        "\n",
        "print(\"=== Q1: Data Quality Assessment ===\")\n",
        "print(f\"Dataset shape: {df.shape}\")\n",
        "print(\"\\nBasic info:\")\n",
        "print(df.info())\n",
        "print(\"\\nMissing values:\")\n",
        "print(df.isnull().sum())\n",
        "print(\"\\nData types:\")\n",
        "print(df.dtypes)"
      ]
    },
    {
      "cell_type": "code",
      "execution_count": 16,
      "metadata": {
        "colab": {
          "base_uri": "https://localhost:8080/"
        },
        "id": "db6d338d",
        "outputId": "2dab346c-0de8-416a-a8b5-dd3dea3712dd"
      },
      "outputs": [
        {
          "name": "stdout",
          "output_type": "stream",
          "text": [
            "\n",
            "Missing values after handling:\n",
            "playerid        0\n",
            "country         0\n",
            "created     47669\n",
            "dtype: int64\n"
          ]
        }
      ],
      "source": [
        "# Fill missing values in the 'country' column with 'Unknown'\n",
        "df['country'] = df['country'].fillna('Unknown')\n",
        "\n",
        "# Verify that missing values in 'country' have been handled\n",
        "print(\"\\nMissing values after handling:\")\n",
        "print(df.isnull().sum())"
      ]
    },
    {
      "cell_type": "markdown",
      "metadata": {
        "id": "o67baSkq4odS"
      },
      "source": [
        "### Q2: Create a categorical plot\n",
        "Come up with a unique question that can be answer using a categorical plot from the sns module"
      ]
    },
    {
      "cell_type": "markdown",
      "metadata": {
        "id": "ZJAIGsGMGIlG"
      },
      "source": [
        "Question: Which 10 countries have the most Steam Players?"
      ]
    },
    {
      "cell_type": "code",
      "execution_count": 17,
      "metadata": {
        "colab": {
          "base_uri": "https://localhost:8080/",
          "height": 564
        },
        "id": "355740eb",
        "outputId": "8c332b7d-0f4b-44a2-de42-b9867dd1df15"
      },
      "outputs": [
        {
          "data": {
            "image/png": "[encoded data removed]",
            "text/plain": [
              "<Figure size 1200x600 with 1 Axes>"
            ]
          },
          "metadata": {},
          "output_type": "display_data"
        }
      ],
      "source": [
        "# Get the top 10 countries\n",
        "top_10_countries = df['country'].value_counts().nlargest(10).index\n",
        "\n",
        "# Create a count plot of the top 10 countries\n",
        "plt.figure(figsize=(12, 6)) # Adjust figure size for better readability\n",
        "sns.countplot(data=df[df['country'].isin(top_10_countries)], y='country', order=top_10_countries)\n",
        "plt.title('Distribution of Players by Top 10 Countries')\n",
        "plt.xlabel('Number of Players')\n",
        "plt.ylabel('Country')\n",
        "plt.show()"
      ]
    },
    {
      "cell_type": "markdown",
      "metadata": {
        "id": "2gBQnPbS4odT"
      },
      "source": [
        "### Q3: Come up with a another unique question. This question must use map() or apply()"
      ]
    },
    {
      "cell_type": "markdown",
      "metadata": {
        "id": "yNfIMfBZIkxE"
      },
      "source": [
        "Question: Which years have the most account created?"
      ]
    },
    {
      "cell_type": "code",
      "execution_count": 18,
      "metadata": {
        "colab": {
          "base_uri": "https://localhost:8080/"
        },
        "id": "d9b6fc81",
        "outputId": "ceda7971-cf0b-49fe-ae05-4363d431f489"
      },
      "outputs": [
        {
          "name": "stdout",
          "output_type": "stream",
          "text": [
            "              created  creation_year\n",
            "0 2016-03-02 06:14:20         2016.0\n",
            "1 2011-04-10 17:10:06         2011.0\n",
            "2 2011-09-28 21:43:59         2011.0\n",
            "3 2014-09-24 19:52:47         2014.0\n",
            "4 2013-12-26 00:25:50         2013.0\n",
            "\n",
            "Data types after extracting year:\n",
            "created          datetime64[ns]\n",
            "creation_year           float64\n",
            "dtype: object\n"
          ]
        }
      ],
      "source": [
        "# Convert the 'created' column to datetime objects, coercing errors to NaT\n",
        "df['created'] = pd.to_datetime(df['created'], errors='coerce')\n",
        "\n",
        "# Extract the year using apply() and create a new column 'creation_year'\n",
        "df['creation_year'] = df['created'].apply(lambda x: x.year if pd.notnull(x) else np.nan)\n",
        "\n",
        "# Display the first few rows with the new column and check data types\n",
        "print(df[['created', 'creation_year']].head())\n",
        "print(\"\\nData types after extracting year:\")\n",
        "print(df[['created', 'creation_year']].dtypes)"
      ]
    },
    {
      "cell_type": "markdown",
      "metadata": {
        "id": "2QajJFw5j_Oe"
      },
      "source": [
        "### Q4: Create an interactive plot\n",
        "Create an interactive plot using plotly. Your plot can be a previously asked question or a new question, however explain how this interaction strengthen what you want to communicate with your audience."
      ]
    },
    {
      "cell_type": "code",
      "execution_count": 19,
      "metadata": {
        "colab": {
          "base_uri": "https://localhost:8080/",
          "height": 542
        },
        "id": "e1dd7351",
        "outputId": "28f3e048-74ce-41c1-e745-6ab982368e6e"
      },
      "outputs": [
        {
          "data": {
            "application/vnd.plotly.v1+json": {
              "config": {
                "plotlyServerURL": "https://plot.ly"
              },
              "data": [
                {
                  "hovertemplate": "creation_year=%{x}<br>count=%{y}<extra></extra>",
                  "legendgroup": "",
                  "marker": {
                    "color": "#636efa",
                    "pattern": {
                      "shape": ""
                    }
                  },
                  "name": "",
                  "orientation": "v",
                  "showlegend": false,
                  "textposition": "auto",
                  "type": "bar",
                  "x": {
                    "bdata": "AAAAAABMn0AAAAAAAFCfQAAAAAAAVJ9AAAAAAABYn0AAAAAAAFyfQAAAAAAAYJ9AAAAAAABkn0AAAAAAAGifQAAAAAAAbJ9AAAAAAABwn0AAAAAAAHSfQAAAAAAAeJ9AAAAAAAB8n0AAAAAAAICfQAAAAAAAhJ9AAAAAAACIn0AAAAAAAIyfQAAAAAAAkJ9AAAAAAACUn0AAAAAAAJifQAAAAAAAnJ9AAAAAAACgn0AAAAAAAKSfQA==",
                    "dtype": "f8"
                  },
                  "xaxis": "x",
                  "y": {
                    "bdata": "EhAAAJYaAACXEQAA/RIAAK8dAAAvIQAANCsAAPIvAADJRAAAPFwAANSDAABpnQAAnKwAAM+ZAAAtgQAAHFcAAKZKAAA3UwAAoykAAM0YAAAYEQAAGgUAAAEAAAA=",
                    "dtype": "i4"
                  },
                  "yaxis": "y"
                }
              ],
              "layout": {
                "barmode": "relative",
                "legend": {
                  "tracegroupgap": 0
                },
                "template": {
                  "data": {
                    "bar": [
                      {
                        "error_x": {
                          "color": "#2a3f5f"
                        },
                        "error_y": {
                          "color": "#2a3f5f"
                        },
                        "marker": {
                          "line": {
                            "color": "#E5ECF6",
                            "width": 0.5
                          },
                          "pattern": {
                            "fillmode": "overlay",
                            "size": 10,
                            "solidity": 0.2
                          }
                        },
                        "type": "bar"
                      }
                    ],
                    "barpolar": [
                      {
                        "marker": {
                          "line": {
                            "color": "#E5ECF6",
                            "width": 0.5
                          },
                          "pattern": {
                            "fillmode": "overlay",
                            "size": 10,
                            "solidity": 0.2
                          }
                        },
                        "type": "barpolar"
                      }
                    ],
                    "carpet": [
                      {
                        "aaxis": {
                          "endlinecolor": "#2a3f5f",
                          "gridcolor": "white",
                          "linecolor": "white",
                          "minorgridcolor": "white",
                          "startlinecolor": "#2a3f5f"
                        },
                        "baxis": {
                          "endlinecolor": "#2a3f5f",
                          "gridcolor": "white",
                          "linecolor": "white",
                          "minorgridcolor": "white",
                          "startlinecolor": "#2a3f5f"
                        },
                        "type": "carpet"
                      }
                    ],
                    "choropleth": [
                      {
                        "colorbar": {
                          "outlinewidth": 0,
                          "ticks": ""
                        },
                        "type": "choropleth"
                      }
                    ],
                    "contour": [
                      {
                        "colorbar": {
                          "outlinewidth": 0,
                          "ticks": ""
                        },
                        "colorscale": [
                          [
                            0,
                            "#0d0887"
                          ],
                          [
                            0.1111111111111111,
                            "#46039f"
                          ],
                          [
                            0.2222222222222222,
                            "#7201a8"
                          ],
                          [
                            0.3333333333333333,
                            "#9c179e"
                          ],
                          [
                            0.4444444444444444,
                            "#bd3786"
                          ],
                          [
                            0.5555555555555556,
                            "#d8576b"
                          ],
                          [
                            0.6666666666666666,
                            "#ed7953"
                          ],
                          [
                            0.7777777777777778,
                            "#fb9f3a"
                          ],
                          [
                            0.8888888888888888,
                            "#fdca26"
                          ],
                          [
                            1,
                            "#f0f921"
                          ]
                        ],
                        "type": "contour"
                      }
                    ],
                    "contourcarpet": [
                      {
                        "colorbar": {
                          "outlinewidth": 0,
                          "ticks": ""
                        },
                        "type": "contourcarpet"
                      }
                    ],
                    "heatmap": [
                      {
                        "colorbar": {
                          "outlinewidth": 0,
                          "ticks": ""
                        },
                        "colorscale": [
                          [
                            0,
                            "#0d0887"
                          ],
                          [
                            0.1111111111111111,
                            "#46039f"
                          ],
                          [
                            0.2222222222222222,
                            "#7201a8"
                          ],
                          [
                            0.3333333333333333,
                            "#9c179e"
                          ],
                          [
                            0.4444444444444444,
                            "#bd3786"
                          ],
                          [
                            0.5555555555555556,
                            "#d8576b"
                          ],
                          [
                            0.6666666666666666,
                            "#ed7953"
                          ],
                          [
                            0.7777777777777778,
                            "#fb9f3a"
                          ],
                          [
                            0.8888888888888888,
                            "#fdca26"
                          ],
                          [
                            1,
                            "#f0f921"
                          ]
                        ],
                        "type": "heatmap"
                      }
                    ],
                    "histogram": [
                      {
                        "marker": {
                          "pattern": {
                            "fillmode": "overlay",
                            "size": 10,
                            "solidity": 0.2
                          }
                        },
                        "type": "histogram"
                      }
                    ],
                    "histogram2d": [
                      {
                        "colorbar": {
                          "outlinewidth": 0,
                          "ticks": ""
                        },
                        "colorscale": [
                          [
                            0,
                            "#0d0887"
                          ],
                          [
                            0.1111111111111111,
                            "#46039f"
                          ],
                          [
                            0.2222222222222222,
                            "#7201a8"
                          ],
                          [
                            0.3333333333333333,
                            "#9c179e"
                          ],
                          [
                            0.4444444444444444,
                            "#bd3786"
                          ],
                          [
                            0.5555555555555556,
                            "#d8576b"
                          ],
                          [
                            0.6666666666666666,
                            "#ed7953"
                          ],
                          [
                            0.7777777777777778,
                            "#fb9f3a"
                          ],
                          [
                            0.8888888888888888,
                            "#fdca26"
                          ],
                          [
                            1,
                            "#f0f921"
                          ]
                        ],
                        "type": "histogram2d"
                      }
                    ],
                    "histogram2dcontour": [
                      {
                        "colorbar": {
                          "outlinewidth": 0,
                          "ticks": ""
                        },
                        "colorscale": [
                          [
                            0,
                            "#0d0887"
                          ],
                          [
                            0.1111111111111111,
                            "#46039f"
                          ],
                          [
                            0.2222222222222222,
                            "#7201a8"
                          ],
                          [
                            0.3333333333333333,
                            "#9c179e"
                          ],
                          [
                            0.4444444444444444,
                            "#bd3786"
                          ],
                          [
                            0.5555555555555556,
                            "#d8576b"
                          ],
                          [
                            0.6666666666666666,
                            "#ed7953"
                          ],
                          [
                            0.7777777777777778,
                            "#fb9f3a"
                          ],
                          [
                            0.8888888888888888,
                            "#fdca26"
                          ],
                          [
                            1,
                            "#f0f921"
                          ]
                        ],
                        "type": "histogram2dcontour"
                      }
                    ],
                    "mesh3d": [
                      {
                        "colorbar": {
                          "outlinewidth": 0,
                          "ticks": ""
                        },
                        "type": "mesh3d"
                      }
                    ],
                    "parcoords": [
                      {
                        "line": {
                          "colorbar": {
                            "outlinewidth": 0,
                            "ticks": ""
                          }
                        },
                        "type": "parcoords"
                      }
                    ],
                    "pie": [
                      {
                        "automargin": true,
                        "type": "pie"
                      }
                    ],
                    "scatter": [
                      {
                        "fillpattern": {
                          "fillmode": "overlay",
                          "size": 10,
                          "solidity": 0.2
                        },
                        "type": "scatter"
                      }
                    ],
                    "scatter3d": [
                      {
                        "line": {
                          "colorbar": {
                            "outlinewidth": 0,
                            "ticks": ""
                          }
                        },
                        "marker": {
                          "colorbar": {
                            "outlinewidth": 0,
                            "ticks": ""
                          }
                        },
                        "type": "scatter3d"
                      }
                    ],
                    "scattercarpet": [
                      {
                        "marker": {
                          "colorbar": {
                            "outlinewidth": 0,
                            "ticks": ""
                          }
                        },
                        "type": "scattercarpet"
                      }
                    ],
                    "scattergeo": [
                      {
                        "marker": {
                          "colorbar": {
                            "outlinewidth": 0,
                            "ticks": ""
                          }
                        },
                        "type": "scattergeo"
                      }
                    ],
                    "scattergl": [
                      {
                        "marker": {
                          "colorbar": {
                            "outlinewidth": 0,
                            "ticks": ""
                          }
                        },
                        "type": "scattergl"
                      }
                    ],
                    "scattermap": [
                      {
                        "marker": {
                          "colorbar": {
                            "outlinewidth": 0,
                            "ticks": ""
                          }
                        },
                        "type": "scattermap"
                      }
                    ],
                    "scattermapbox": [
                      {
                        "marker": {
                          "colorbar": {
                            "outlinewidth": 0,
                            "ticks": ""
                          }
                        },
                        "type": "scattermapbox"
                      }
                    ],
                    "scatterpolar": [
                      {
                        "marker": {
                          "colorbar": {
                            "outlinewidth": 0,
                            "ticks": ""
                          }
                        },
                        "type": "scatterpolar"
                      }
                    ],
                    "scatterpolargl": [
                      {
                        "marker": {
                          "colorbar": {
                            "outlinewidth": 0,
                            "ticks": ""
                          }
                        },
                        "type": "scatterpolargl"
                      }
                    ],
                    "scatterternary": [
                      {
                        "marker": {
                          "colorbar": {
                            "outlinewidth": 0,
                            "ticks": ""
                          }
                        },
                        "type": "scatterternary"
                      }
                    ],
                    "surface": [
                      {
                        "colorbar": {
                          "outlinewidth": 0,
                          "ticks": ""
                        },
                        "colorscale": [
                          [
                            0,
                            "#0d0887"
                          ],
                          [
                            0.1111111111111111,
                            "#46039f"
                          ],
                          [
                            0.2222222222222222,
                            "#7201a8"
                          ],
                          [
                            0.3333333333333333,
                            "#9c179e"
                          ],
                          [
                            0.4444444444444444,
                            "#bd3786"
                          ],
                          [
                            0.5555555555555556,
                            "#d8576b"
                          ],
                          [
                            0.6666666666666666,
                            "#ed7953"
                          ],
                          [
                            0.7777777777777778,
                            "#fb9f3a"
                          ],
                          [
                            0.8888888888888888,
                            "#fdca26"
                          ],
                          [
                            1,
                            "#f0f921"
                          ]
                        ],
                        "type": "surface"
                      }
                    ],
                    "table": [
                      {
                        "cells": {
                          "fill": {
                            "color": "#EBF0F8"
                          },
                          "line": {
                            "color": "white"
                          }
                        },
                        "header": {
                          "fill": {
                            "color": "#C8D4E3"
                          },
                          "line": {
                            "color": "white"
                          }
                        },
                        "type": "table"
                      }
                    ]
                  },
                  "layout": {
                    "annotationdefaults": {
                      "arrowcolor": "#2a3f5f",
                      "arrowhead": 0,
                      "arrowwidth": 1
                    },
                    "autotypenumbers": "strict",
                    "coloraxis": {
                      "colorbar": {
                        "outlinewidth": 0,
                        "ticks": ""
                      }
                    },
                    "colorscale": {
                      "diverging": [
                        [
                          0,
                          "#8e0152"
                        ],
                        [
                          0.1,
                          "#c51b7d"
                        ],
                        [
                          0.2,
                          "#de77ae"
                        ],
                        [
                          0.3,
                          "#f1b6da"
                        ],
                        [
                          0.4,
                          "#fde0ef"
                        ],
                        [
                          0.5,
                          "#f7f7f7"
                        ],
                        [
                          0.6,
                          "#e6f5d0"
                        ],
                        [
                          0.7,
                          "#b8e186"
                        ],
                        [
                          0.8,
                          "#7fbc41"
                        ],
                        [
                          0.9,
                          "#4d9221"
                        ],
                        [
                          1,
                          "#276419"
                        ]
                      ],
                      "sequential": [
                        [
                          0,
                          "#0d0887"
                        ],
                        [
                          0.1111111111111111,
                          "#46039f"
                        ],
                        [
                          0.2222222222222222,
                          "#7201a8"
                        ],
                        [
                          0.3333333333333333,
                          "#9c179e"
                        ],
                        [
                          0.4444444444444444,
                          "#bd3786"
                        ],
                        [
                          0.5555555555555556,
                          "#d8576b"
                        ],
                        [
                          0.6666666666666666,
                          "#ed7953"
                        ],
                        [
                          0.7777777777777778,
                          "#fb9f3a"
                        ],
                        [
                          0.8888888888888888,
                          "#fdca26"
                        ],
                        [
                          1,
                          "#f0f921"
                        ]
                      ],
                      "sequentialminus": [
                        [
                          0,
                          "#0d0887"
                        ],
                        [
                          0.1111111111111111,
                          "#46039f"
                        ],
                        [
                          0.2222222222222222,
                          "#7201a8"
                        ],
                        [
                          0.3333333333333333,
                          "#9c179e"
                        ],
                        [
                          0.4444444444444444,
                          "#bd3786"
                        ],
                        [
                          0.5555555555555556,
                          "#d8576b"
                        ],
                        [
                          0.6666666666666666,
                          "#ed7953"
                        ],
                        [
                          0.7777777777777778,
                          "#fb9f3a"
                        ],
                        [
                          0.8888888888888888,
                          "#fdca26"
                        ],
                        [
                          1,
                          "#f0f921"
                        ]
                      ]
                    },
                    "colorway": [
                      "#636efa",
                      "#EF553B",
                      "#00cc96",
                      "#ab63fa",
                      "#FFA15A",
                      "#19d3f3",
                      "#FF6692",
                      "#B6E880",
                      "#FF97FF",
                      "#FECB52"
                    ],
                    "font": {
                      "color": "#2a3f5f"
                    },
                    "geo": {
                      "bgcolor": "white",
                      "lakecolor": "white",
                      "landcolor": "#E5ECF6",
                      "showlakes": true,
                      "showland": true,
                      "subunitcolor": "white"
                    },
                    "hoverlabel": {
                      "align": "left"
                    },
                    "hovermode": "closest",
                    "mapbox": {
                      "style": "light"
                    },
                    "paper_bgcolor": "white",
                    "plot_bgcolor": "#E5ECF6",
                    "polar": {
                      "angularaxis": {
                        "gridcolor": "white",
                        "linecolor": "white",
                        "ticks": ""
                      },
                      "bgcolor": "#E5ECF6",
                      "radialaxis": {
                        "gridcolor": "white",
                        "linecolor": "white",
                        "ticks": ""
                      }
                    },
                    "scene": {
                      "xaxis": {
                        "backgroundcolor": "#E5ECF6",
                        "gridcolor": "white",
                        "gridwidth": 2,
                        "linecolor": "white",
                        "showbackground": true,
                        "ticks": "",
                        "zerolinecolor": "white"
                      },
                      "yaxis": {
                        "backgroundcolor": "#E5ECF6",
                        "gridcolor": "white",
                        "gridwidth": 2,
                        "linecolor": "white",
                        "showbackground": true,
                        "ticks": "",
                        "zerolinecolor": "white"
                      },
                      "zaxis": {
                        "backgroundcolor": "#E5ECF6",
                        "gridcolor": "white",
                        "gridwidth": 2,
                        "linecolor": "white",
                        "showbackground": true,
                        "ticks": "",
                        "zerolinecolor": "white"
                      }
                    },
                    "shapedefaults": {
                      "line": {
                        "color": "#2a3f5f"
                      }
                    },
                    "ternary": {
                      "aaxis": {
                        "gridcolor": "white",
                        "linecolor": "white",
                        "ticks": ""
                      },
                      "baxis": {
                        "gridcolor": "white",
                        "linecolor": "white",
                        "ticks": ""
                      },
                      "bgcolor": "#E5ECF6",
                      "caxis": {
                        "gridcolor": "white",
                        "linecolor": "white",
                        "ticks": ""
                      }
                    },
                    "title": {
                      "x": 0.05
                    },
                    "xaxis": {
                      "automargin": true,
                      "gridcolor": "white",
                      "linecolor": "white",
                      "ticks": "",
                      "title": {
                        "standoff": 15
                      },
                      "zerolinecolor": "white",
                      "zerolinewidth": 2
                    },
                    "yaxis": {
                      "automargin": true,
                      "gridcolor": "white",
                      "linecolor": "white",
                      "ticks": "",
                      "title": {
                        "standoff": 15
                      },
                      "zerolinecolor": "white",
                      "zerolinewidth": 2
                    }
                  }
                },
                "title": {
                  "text": "Interactive Distribution of Account Creation Years"
                },
                "xaxis": {
                  "anchor": "y",
                  "domain": [
                    0,
                    1
                  ],
                  "tickmode": "linear",
                  "title": {
                    "text": "creation_year"
                  }
                },
                "yaxis": {
                  "anchor": "x",
                  "domain": [
                    0,
                    1
                  ],
                  "title": {
                    "text": "count"
                  }
                }
              }
            }
          },
          "metadata": {},
          "output_type": "display_data"
        }
      ],
      "source": [
        "# Drop rows with NaN in 'creation_year' for plotting\n",
        "creation_year_data_plotly = df.dropna(subset=['creation_year'])\n",
        "\n",
        "# Count the occurrences of each creation year\n",
        "creation_year_counts = creation_year_data_plotly['creation_year'].value_counts().sort_index().reset_index()\n",
        "creation_year_counts.columns = ['creation_year', 'count']\n",
        "\n",
        "# Create an interactive bar plot using Plotly Express\n",
        "fig = px.bar(creation_year_counts,\n",
        "             x='creation_year',\n",
        "             y='count',\n",
        "             title='Interactive Distribution of Account Creation Years')\n",
        "\n",
        "# Update x-axis to display years as integers\n",
        "fig.update_layout(xaxis = dict(tickmode = 'linear'))\n",
        "\n",
        "fig.show()"
      ]
    },
    {
      "cell_type": "markdown",
      "metadata": {
        "id": "INxqWvFUCapx"
      },
      "source": [
        "## Q5: Additional datasets and data processing\n",
        "For the questions below you do not need to do the plotting if you have not found another complementary dataset. However, write the psuedocode of how you could go about answering the questions and sketches of what your visualization might be. Answer the following:\n",
        "\n",
        "What additional datasets would you need to find or create to help strengthen your data?\n",
        "How would you combine the dataset?\n",
        "Do you need to reshape your data and how could you go about it?"
      ]
    },
    {
      "cell_type": "code",
      "execution_count": null,
      "metadata": {
        "id": "Q_HBFKFcCbDp"
      },
      "outputs": [
        {
          "name": "stdout",
          "output_type": "stream",
          "text": [
            "=== Available Datasets ===\n",
            "Players: (424683, 4)\n",
            "Games: (98248, 7)\n",
            "Purchased Games: (102548, 2)\n",
            "\n",
            "=== Step 1: Combining Datasets ===\n",
            "Player purchases combined: (102548, 5)\n"
          ]
        },
        {
          "ename": "KeyError",
          "evalue": "\"None of [Index(['appid', 'name'], dtype='object')] are in the [columns]\"",
          "output_type": "error",
          "traceback": [
            "\u001b[31m---------------------------------------------------------------------------\u001b[39m",
            "\u001b[31mKeyError\u001b[39m                                  Traceback (most recent call last)",
            "\u001b[36mCell\u001b[39m\u001b[36m \u001b[39m\u001b[32mIn[20]\u001b[39m\u001b[32m, line 23\u001b[39m\n\u001b[32m     20\u001b[39m \u001b[38;5;28mprint\u001b[39m(\u001b[33mf\u001b[39m\u001b[33m\"\u001b[39m\u001b[33mPlayer purchases combined: \u001b[39m\u001b[38;5;132;01m{\u001b[39;00mplayer_purchases.shape\u001b[38;5;132;01m}\u001b[39;00m\u001b[33m\"\u001b[39m)\n\u001b[32m     22\u001b[39m \u001b[38;5;66;03m# Step 2: Merge with games to get game names\u001b[39;00m\n\u001b[32m---> \u001b[39m\u001b[32m23\u001b[39m player_game_info = player_purchases.merge(\u001b[43mgames_df\u001b[49m\u001b[43m[\u001b[49m\u001b[43m[\u001b[49m\u001b[33;43m'\u001b[39;49m\u001b[33;43mappid\u001b[39;49m\u001b[33;43m'\u001b[39;49m\u001b[43m,\u001b[49m\u001b[43m \u001b[49m\u001b[33;43m'\u001b[39;49m\u001b[33;43mname\u001b[39;49m\u001b[33;43m'\u001b[39;49m\u001b[43m]\u001b[49m\u001b[43m]\u001b[49m, on=\u001b[33m'\u001b[39m\u001b[33mappid\u001b[39m\u001b[33m'\u001b[39m, how=\u001b[33m'\u001b[39m\u001b[33mleft\u001b[39m\u001b[33m'\u001b[39m)\n\u001b[32m     24\u001b[39m \u001b[38;5;28mprint\u001b[39m(\u001b[33mf\u001b[39m\u001b[33m\"\u001b[39m\u001b[33mAfter adding game names: \u001b[39m\u001b[38;5;132;01m{\u001b[39;00mplayer_game_info.shape\u001b[38;5;132;01m}\u001b[39;00m\u001b[33m\"\u001b[39m)\n\u001b[32m     26\u001b[39m \u001b[38;5;66;03m# Step 3: Get top 10 countries and top 20 games\u001b[39;00m\n",
            "\u001b[36mFile \u001b[39m\u001b[32m~/Documents/School/CS/cs133/.venv/lib/python3.13/site-packages/pandas/core/frame.py:4119\u001b[39m, in \u001b[36mDataFrame.__getitem__\u001b[39m\u001b[34m(self, key)\u001b[39m\n\u001b[32m   4117\u001b[39m     \u001b[38;5;28;01mif\u001b[39;00m is_iterator(key):\n\u001b[32m   4118\u001b[39m         key = \u001b[38;5;28mlist\u001b[39m(key)\n\u001b[32m-> \u001b[39m\u001b[32m4119\u001b[39m     indexer = \u001b[38;5;28;43mself\u001b[39;49m\u001b[43m.\u001b[49m\u001b[43mcolumns\u001b[49m\u001b[43m.\u001b[49m\u001b[43m_get_indexer_strict\u001b[49m\u001b[43m(\u001b[49m\u001b[43mkey\u001b[49m\u001b[43m,\u001b[49m\u001b[43m \u001b[49m\u001b[33;43m\"\u001b[39;49m\u001b[33;43mcolumns\u001b[39;49m\u001b[33;43m\"\u001b[39;49m\u001b[43m)\u001b[49m[\u001b[32m1\u001b[39m]\n\u001b[32m   4121\u001b[39m \u001b[38;5;66;03m# take() does not accept boolean indexers\u001b[39;00m\n\u001b[32m   4122\u001b[39m \u001b[38;5;28;01mif\u001b[39;00m \u001b[38;5;28mgetattr\u001b[39m(indexer, \u001b[33m\"\u001b[39m\u001b[33mdtype\u001b[39m\u001b[33m\"\u001b[39m, \u001b[38;5;28;01mNone\u001b[39;00m) == \u001b[38;5;28mbool\u001b[39m:\n",
            "\u001b[36mFile \u001b[39m\u001b[32m~/Documents/School/CS/cs133/.venv/lib/python3.13/site-packages/pandas/core/indexes/base.py:6212\u001b[39m, in \u001b[36mIndex._get_indexer_strict\u001b[39m\u001b[34m(self, key, axis_name)\u001b[39m\n\u001b[32m   6209\u001b[39m \u001b[38;5;28;01melse\u001b[39;00m:\n\u001b[32m   6210\u001b[39m     keyarr, indexer, new_indexer = \u001b[38;5;28mself\u001b[39m._reindex_non_unique(keyarr)\n\u001b[32m-> \u001b[39m\u001b[32m6212\u001b[39m \u001b[38;5;28;43mself\u001b[39;49m\u001b[43m.\u001b[49m\u001b[43m_raise_if_missing\u001b[49m\u001b[43m(\u001b[49m\u001b[43mkeyarr\u001b[49m\u001b[43m,\u001b[49m\u001b[43m \u001b[49m\u001b[43mindexer\u001b[49m\u001b[43m,\u001b[49m\u001b[43m \u001b[49m\u001b[43maxis_name\u001b[49m\u001b[43m)\u001b[49m\n\u001b[32m   6214\u001b[39m keyarr = \u001b[38;5;28mself\u001b[39m.take(indexer)\n\u001b[32m   6215\u001b[39m \u001b[38;5;28;01mif\u001b[39;00m \u001b[38;5;28misinstance\u001b[39m(key, Index):\n\u001b[32m   6216\u001b[39m     \u001b[38;5;66;03m# GH 42790 - Preserve name from an Index\u001b[39;00m\n",
            "\u001b[36mFile \u001b[39m\u001b[32m~/Documents/School/CS/cs133/.venv/lib/python3.13/site-packages/pandas/core/indexes/base.py:6261\u001b[39m, in \u001b[36mIndex._raise_if_missing\u001b[39m\u001b[34m(self, key, indexer, axis_name)\u001b[39m\n\u001b[32m   6259\u001b[39m \u001b[38;5;28;01mif\u001b[39;00m nmissing:\n\u001b[32m   6260\u001b[39m     \u001b[38;5;28;01mif\u001b[39;00m nmissing == \u001b[38;5;28mlen\u001b[39m(indexer):\n\u001b[32m-> \u001b[39m\u001b[32m6261\u001b[39m         \u001b[38;5;28;01mraise\u001b[39;00m \u001b[38;5;167;01mKeyError\u001b[39;00m(\u001b[33mf\u001b[39m\u001b[33m\"\u001b[39m\u001b[33mNone of [\u001b[39m\u001b[38;5;132;01m{\u001b[39;00mkey\u001b[38;5;132;01m}\u001b[39;00m\u001b[33m] are in the [\u001b[39m\u001b[38;5;132;01m{\u001b[39;00maxis_name\u001b[38;5;132;01m}\u001b[39;00m\u001b[33m]\u001b[39m\u001b[33m\"\u001b[39m)\n\u001b[32m   6263\u001b[39m     not_found = \u001b[38;5;28mlist\u001b[39m(ensure_index(key)[missing_mask.nonzero()[\u001b[32m0\u001b[39m]].unique())\n\u001b[32m   6264\u001b[39m     \u001b[38;5;28;01mraise\u001b[39;00m \u001b[38;5;167;01mKeyError\u001b[39;00m(\u001b[33mf\u001b[39m\u001b[33m\"\u001b[39m\u001b[38;5;132;01m{\u001b[39;00mnot_found\u001b[38;5;132;01m}\u001b[39;00m\u001b[33m not in index\u001b[39m\u001b[33m\"\u001b[39m)\n",
            "\u001b[31mKeyError\u001b[39m: \"None of [Index(['appid', 'name'], dtype='object')] are in the [columns]\""
          ]
        }
      ],
      "source": [
        "\"\"\"\n",
        "=== Q5: Analyzing Gaming Preferences by Country (Theoretical) ===\n",
        "\n",
        "Goal: Understand regional gaming patterns by combining our gaming data\n",
        "with external geographic/demographic datasets.\n",
        "\n",
        "ADDITIONAL DATASETS NEEDED:\n",
        "1. Country demographics dataset (population, GDP, age distribution)\n",
        "   - Source: World Bank API or UN data\n",
        "   - Columns: country, population, gdp_per_capita, median_age, region\n",
        "   \n",
        "2. Geographic groupings dataset (to group countries by region/continent)\n",
        "   - Source: Create manually or from ISO country data\n",
        "   - Columns: country, continent, sub_region, latitude, longitude\n",
        "\n",
        "PSEUDOCODE - HOW TO COMBINE DATASETS:\n",
        "\"\"\"\n",
        "\n",
        "# Step 1: Load the theoretical complementary dataset\n",
        "# demographics_df = pd.read_csv('world_demographics.csv')\n",
        "# Columns: ['country', 'population', 'gdp_per_capita', 'region', 'continent']\n",
        "\n",
        "# Step 2: Merge our player data with demographic data\n",
        "# player_demographics = df.merge(\n",
        "#     demographics_df, \n",
        "#     left_on='country',  # our country column\n",
        "#     right_on='country',  # their country column\n",
        "#     how='left'\n",
        "# )\n",
        "# Result: Each player now has population, GDP, region info\n",
        "\n",
        "# Step 3: Calculate gaming penetration rate per country\n",
        "# players_per_country = df['country'].value_counts().reset_index()\n",
        "# players_per_country.columns = ['country', 'player_count']\n",
        "# \n",
        "# gaming_penetration = players_per_country.merge(demographics_df, on='country')\n",
        "# gaming_penetration['penetration_rate'] = (\n",
        "#     gaming_penetration['player_count'] / gaming_penetration['population'] * 100\n",
        "# )\n",
        "# Result: Percentage of population that games per country\n",
        "\n",
        "\"\"\"\n",
        "DATA RESHAPING NEEDED:\n",
        "\"\"\"\n",
        "\n",
        "# Reshape 1: Aggregate by region instead of individual countries\n",
        "# regional_data = player_demographics.groupby('region').agg({\n",
        "#     'playerid': 'count',           # Total players per region\n",
        "#     'population': 'sum',            # Total population per region\n",
        "#     'gdp_per_capita': 'mean'        # Average GDP per region\n",
        "# }).reset_index()\n",
        "# \n",
        "# Result: Transform from country-level to region-level data\n",
        "\n",
        "# Reshape 2: Create pivot table for visualization\n",
        "# gaming_by_region_year = player_demographics.pivot_table(\n",
        "#     index='creation_year',\n",
        "#     columns='region',\n",
        "#     values='playerid',\n",
        "#     aggfunc='count',\n",
        "#     fill_value=0\n",
        "# )\n",
        "# \n",
        "# Result: Rows=years, Columns=regions, Values=number of new players\n",
        "# This wide format is perfect for stacked area charts or heatmaps\n",
        "\n",
        "\"\"\"\n",
        "VISUALIZATION SKETCH:\n",
        "\n",
        "Plot 1: Choropleth Map - Gaming Penetration Rate by Country\n",
        "- World map colored by penetration_rate\n",
        "- Darker colors = higher % of population that games\n",
        "- Interactive tooltips showing country name, player count, population\n",
        "Code structure:\n",
        "    fig = px.choropleth(\n",
        "        gaming_penetration,\n",
        "        locations='country',\n",
        "        locationmode='country names',\n",
        "        color='penetration_rate',\n",
        "        hover_data=['player_count', 'population'],\n",
        "        color_continuous_scale='Viridis',\n",
        "        title='Gaming Penetration Rate by Country'\n",
        "    )\n",
        "\n",
        "Plot 2: Scatter Plot - GDP vs Gaming Penetration\n",
        "- X-axis: GDP per capita\n",
        "- Y-axis: Gaming penetration rate\n",
        "- Point size: Total player count\n",
        "- Color: Region/continent\n",
        "Code structure:\n",
        "    fig = px.scatter(\n",
        "        gaming_penetration,\n",
        "        x='gdp_per_capita',\n",
        "        y='penetration_rate',\n",
        "        size='player_count',\n",
        "        color='region',\n",
        "        hover_name='country',\n",
        "        title='Economic Correlation with Gaming Adoption'\n",
        "    )\n",
        "\n",
        "Plot 3: Stacked Area Chart - Regional Player Growth Over Time\n",
        "- X-axis: Year\n",
        "- Y-axis: Number of players\n",
        "- Each region is a different colored layer in the stack\n",
        "Code structure:\n",
        "    fig = px.area(\n",
        "        regional_yearly_data,\n",
        "        x='creation_year',\n",
        "        y='player_count',\n",
        "        color='region',\n",
        "        title='Regional Gaming Growth Over Time'\n",
        "    )\n",
        "\"\"\"\n",
        "\n",
        "print(\"=== Q5 Summary ===\")\n",
        "print(\"\\nAdditional datasets needed:\")\n",
        "print(\"- Country demographics (population, GDP, age) to normalize gaming metrics\")\n",
        "print(\"- Geographic groupings (regions, continents) for higher-level analysis\")\n",
        "print(\"\\nHow to combine:\")\n",
        "print(\"- Use merge() with country as the key column\")\n",
        "print(\"- Calculate derived metrics like penetration rate\")\n",
        "print(\"\\nData reshaping:\")\n",
        "print(\"- Aggregate from country-level to region-level using groupby()\")\n",
        "print(\"- Pivot from long format to wide format for time-series by region\")\n",
        "print(\"\\nVisualization benefits:\")\n",
        "print(\"- Geographic maps show spatial patterns\")\n",
        "print(\"- Scatter plots reveal correlations (GDP vs gaming)\")\n",
        "print(\"- Stacked charts show regional growth trends over time\")"
      ]
    }
  ],
  "metadata": {
    "colab": {
      "provenance": []
    },
    "kernelspec": {
      "display_name": ".venv",
      "language": "python",
      "name": "python3"
    },
    "language_info": {
      "codemirror_mode": {
        "name": "ipython",
        "version": 3
      },
      "file_extension": ".py",
      "mimetype": "text/x-python",
      "name": "python",
      "nbconvert_exporter": "python",
      "pygments_lexer": "ipython3",
      "version": "3.13.7"
    }
  },
  "nbformat": 4,
  "nbformat_minor": 0
}
